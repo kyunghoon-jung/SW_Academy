{
 "cells": [
  {
   "cell_type": "markdown",
   "metadata": {},
   "source": [
    "#### Samsung SW Expert - List1\n",
    "1. [파이썬 S/W 문제해결 기본] 1일차 - min max"
   ]
  },
  {
   "cell_type": "code",
   "execution_count": 1,
   "metadata": {},
   "outputs": [],
   "source": [
    "import numpy as np  \n",
    "import os   \n",
    "import time   "
   ]
  },
  {
   "cell_type": "code",
   "execution_count": 8,
   "metadata": {},
   "outputs": [],
   "source": [
    "# 입력\n",
    "# 3\n",
    "# 5\n",
    "# 477162 658880 751280 927930 297191\n",
    "# 5\n",
    "# 565469 851600 460874 148692 111090\n",
    "# 10\n",
    "# 784386 279993 982220 996285 614710 992232 195265 359810 919192 158175\n",
    "\n",
    "# 출력\n",
    "# 1 630739\n",
    "# 2 740510\n",
    "# 3 838110"
   ]
  },
  {
   "cell_type": "code",
   "execution_count": null,
   "metadata": {},
   "outputs": [],
   "source": [
    "T = int(input())\n",
    "\n",
    "for idx in range(1, T+1):\n",
    "    N = int(input())\n",
    "\n",
    "    # test_list = list(map(int, input().split(\" \")))\n",
    "    test_list = list(map(int, input().split()))\n",
    "    \n",
    "    max_num = test_list[0] #가장 첫번째 숫자를 할당\n",
    "    min_num = test_list[0]  #가장 첫번째 숫자를 할당\n",
    "\n",
    "    for num in test_list:\n",
    "\n",
    "        # for문을 돌면서 큰 숫자가 나오면 max_num에 할당\n",
    "        if max_num < num: max_num = num\n",
    "        # 작은 숫자가 나오면 min_num에 할당\n",
    "        if min_num > num: min_num = num\n",
    "\n",
    "    print(\"#{} {}\".format(idx, max_num-min_num))"
   ]
  },
  {
   "cell_type": "code",
   "execution_count": null,
   "metadata": {},
   "outputs": [],
   "source": []
  }
 ],
 "metadata": {
  "kernelspec": {
   "display_name": "Python 3",
   "language": "python",
   "name": "python3"
  },
  "language_info": {
   "codemirror_mode": {
    "name": "ipython",
    "version": 3
   },
   "file_extension": ".py",
   "mimetype": "text/x-python",
   "name": "python",
   "nbconvert_exporter": "python",
   "pygments_lexer": "ipython3",
   "version": "3.7.7"
  }
 },
 "nbformat": 4,
 "nbformat_minor": 4
}
